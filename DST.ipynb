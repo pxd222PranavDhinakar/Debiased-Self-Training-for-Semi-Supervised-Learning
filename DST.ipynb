{
 "cells": [
  {
   "cell_type": "markdown",
   "metadata": {},
   "source": [
    "# Debiased Self-Training for Semi-Supervised Learning\n",
    "\n",
    "This notebook implements the Debiased Self-Training (DST) technique for semi-supervised learning, as described in the provided research paper. The DST method aims to reduce bias in self-training processes by adversarially optimizing representations.\n",
    "\n",
    "## Multilayer Perceptron Class\n",
    "\n",
    "First, we define a `MultilayerPerceptron` class, which includes methods for forward propagation, back propagation, parameter updates, and model training.\n"
   ]
  },
  {
   "cell_type": "code",
   "execution_count": 15,
   "metadata": {},
   "outputs": [],
   "source": [
    "import pandas as pd\n",
    "import numpy as np\n",
    "import matplotlib.pyplot as plt\n",
    "import seaborn as sns\n",
    "import os\n",
    "from sklearn.metrics import confusion_matrix\n",
    "\n",
    "\n",
    "class MultilayerPerceptron:\n",
    "    def __init__(self, input_size, hidden_sizes, output_size):\n",
    "        # Initialize weights and biases\n",
    "        self.weights = [np.random.randn(next_size, size) * np.sqrt(1. / size)\n",
    "                        for size, next_size in zip([input_size] + hidden_sizes, hidden_sizes + [output_size])]\n",
    "        self.biases = [np.zeros((size, 1)) for size in hidden_sizes + [output_size]]\n",
    "\n",
    "    def sigmoid(self, z):\n",
    "        z = np.clip(z, -500, 500)  # Clipping z to avoid overflow\n",
    "        return 1.0 / (1.0 + np.exp(-z))\n",
    "\n",
    "\n",
    "    def sigmoid_derivative(self, z):\n",
    "        return self.sigmoid(z) * (1 - self.sigmoid(z))\n",
    "\n",
    "    def forward_propagation(self, x):\n",
    "        activations = [x.reshape(-1, 1)]  # Reshape input to column vector\n",
    "        zs = []  # Store all the z vectors, layer by layer\n",
    "\n",
    "        for w, b in zip(self.weights, self.biases):\n",
    "            z = np.dot(w, activations[-1]) + b\n",
    "            zs.append(z)\n",
    "            activation = self.sigmoid(z)\n",
    "            activations.append(activation)\n",
    "\n",
    "        return activations, zs\n",
    "\n",
    "    def back_propagation(self, x, y, activations, zs):\n",
    "        nabla_b = [np.zeros(b.shape) for b in self.biases]\n",
    "        nabla_w = [np.zeros(w.shape) for w in self.weights]\n",
    "\n",
    "        # Calculate output error\n",
    "        delta = (activations[-1] - y) * self.sigmoid_derivative(zs[-1])\n",
    "        nabla_b[-1] = delta\n",
    "        nabla_w[-1] = np.dot(delta, activations[-2].T)\n",
    "\n",
    "        # Backpropagate the error\n",
    "        for l in range(2, len(self.weights) + 1):\n",
    "            z = zs[-l]\n",
    "            sp = self.sigmoid_derivative(z)\n",
    "            delta = np.dot(self.weights[-l + 1].T, delta) * sp\n",
    "            nabla_b[-l] = delta\n",
    "            nabla_w[-l] = np.dot(delta, activations[-l - 1].T)\n",
    "\n",
    "        return nabla_w, nabla_b\n",
    "\n",
    "    def update_parameters(self, nabla_w, nabla_b, learning_rate):\n",
    "        self.weights = [w - (learning_rate * nw) for w, nw in zip(self.weights, nabla_w)]\n",
    "        self.biases = [b - (learning_rate * nb) for b, nb in zip(self.biases, nabla_b)]\n",
    "\n",
    "    def train(self, X, y, epochs, learning_rate):\n",
    "        losses = []\n",
    "        \n",
    "        for epoch in range(epochs):\n",
    "            epoch_loss = 0\n",
    "            \n",
    "            for x_i, y_i in zip(X, y):\n",
    "                activations, zs = self.forward_propagation(x_i)\n",
    "                nabla_w, nabla_b = self.back_propagation(x_i, y_i, activations, zs)\n",
    "                self.update_parameters(nabla_w, nabla_b, learning_rate)\n",
    "\n",
    "                # Calculate loss (e.g., Mean Squared Error)\n",
    "                predictions = activations[-1]\n",
    "                loss = np.mean((predictions - y_i) ** 2)\n",
    "                epoch_loss += loss\n",
    "\n",
    "            epoch_loss /= len(X)\n",
    "            losses.append(epoch_loss)\n",
    "\n",
    "        return losses\n",
    "\n",
    "\n",
    "    def predict(self, X):\n",
    "        predictions = []\n",
    "        for x in X:\n",
    "            activations, _ = self.forward_propagation(x)\n",
    "            predictions.append(activations[-1])\n",
    "        return np.array(predictions).squeeze()"
   ]
  },
  {
   "cell_type": "markdown",
   "metadata": {},
   "source": [
    "## Function: Z-Score Normalization\n",
    "\n",
    "`z_score_normalize` function standardizes the features of the dataset. It:\n",
    "\n",
    "1. **Calculates Mean and Standard Deviation:** For each feature (excluding the target label), computes the mean and standard deviation.\n",
    "2. **Normalizes Features:** Adjusts each feature value by subtracting the mean and dividing by the standard deviation.\n",
    "\n",
    "This normalization is vital for ensuring that features contribute equally to model training, improving the robustness and performance of the model.\n"
   ]
  },
  {
   "cell_type": "code",
   "execution_count": 16,
   "metadata": {},
   "outputs": [],
   "source": [
    "def z_score_normalize(df):\n",
    "    for column in df.columns[:-1]:  # Exclude the target label column\n",
    "        mean_val = df[column].mean()\n",
    "        std_val = df[column].std()\n",
    "        df[column] = (df[column] - mean_val) / std_val\n",
    "    return df"
   ]
  },
  {
   "cell_type": "markdown",
   "metadata": {},
   "source": [
    "## Data Preprocessing\n",
    "\n",
    "Next, we will load and preprocess the dataset. The preprocessing steps include:\n",
    "\n",
    "1. **Loading the Dataset:** Load the data using Pandas.\n",
    "2. **Renaming and Encoding:** Rename columns if necessary and encode categorical variables.\n",
    "3. **Splitting the Data:** Divide the dataset into labeled, unlabeled, and validation sets.\n",
    "4. **Feature Normalization:** Apply Z-score normalization to scale the features.\n"
   ]
  },
  {
   "cell_type": "code",
   "execution_count": 17,
   "metadata": {},
   "outputs": [],
   "source": [
    "# Choose dataset\n",
    "dataset = 'modified_volcanoes.csv'  # Change this to 'voting.csv' or 'modified_volcanoes.csv' as needed\n",
    "#dataset = 'modified_voting.csv'  # Change this to 'voting.csv' or 'modified_volcanoes.csv' as needed\n",
    "\n",
    "# Load and preprocess the dataset\n",
    "\n",
    "df = pd.read_csv(dataset)\n",
    "\n",
    "df = df.rename(columns={df.columns[-1]: \"class\"})  # Ensure the target attribute is named 'class'\n",
    "\n",
    "\n",
    "# If the dataset variable has the word 'voting' in the name, we need to perform some preprocessing\n",
    "# Data is discrete and must be encoded\n",
    "if 'voting' in dataset:\n",
    "    # Encoding categorical variables\n",
    "    df.replace({'+': 2, '-': 1, '0': 0}, inplace=True)  # Encode features\n",
    "    # Assuming the target labels are the last column and are already binary (0 and 1)\n",
    "\n",
    "\n",
    "# Split the dataset into labeled, unlabeled, and validation parts\n",
    "labeled_df = df.sample(frac=0.4, random_state=42)  # Adjust fractions as needed\n",
    "remaining_df = df.drop(labeled_df.index)\n",
    "unlabeled_df = remaining_df.sample(frac=0.5, random_state=42)\n",
    "validation_df = remaining_df.drop(unlabeled_df.index)\n",
    "\n",
    "# Exclude the first (index) column from each dataframe\n",
    "df = df.iloc[:, 1:] \n",
    "labeled_df = labeled_df.iloc[:, 1:]\n",
    "unlabeled_df = unlabeled_df.iloc[:, 1:]\n",
    "validation_df = validation_df.iloc[:, 1:]\n",
    "\n",
    "# If the dataset has the word 'volcanoes' in the name, we need to perform some preprocessing\n",
    "if 'volcanoes' in dataset:\n",
    "    # Normalize the feature columns of the datasets\n",
    "    labeled_df = z_score_normalize(labeled_df)\n",
    "    unlabeled_df = z_score_normalize(unlabeled_df)\n",
    "    validation_df = z_score_normalize(validation_df)\n",
    "\n",
    "\n",
    "# Split labeled data into features and target, excluding the first (index) column\n",
    "X_labeled = labeled_df.iloc[:, 1:-1].values\n",
    "y_labeled = labeled_df.iloc[:, -1].values\n",
    "\n",
    "# Prepare the unlabeled data, excluding the first (index) column\n",
    "X_unlabeled = unlabeled_df.iloc[:, 1:-1].values\n",
    "y_unlabeled = unlabeled_df.iloc[:, -1].values   # We know the labels are the last column but for the purpose of research we will ignore this set of labels. \n",
    "\n",
    "\n",
    "# Prepare the validation data, excluding the first (index) column\n",
    "X_val = validation_df.iloc[:, 1:-1].values\n",
    "y_val = validation_df.iloc[:, -1].values"
   ]
  },
  {
   "cell_type": "markdown",
   "metadata": {},
   "source": [
    "## Training and Evaluation with Debiased Self-Training Technique\n",
    "\n",
    "In this section, we will implement the Debiased Self-Training (DST) approach using a two-model strategy and evaluate its effectiveness:\n",
    "\n",
    "1. **Model Setup:**\n",
    "   - **Generator Model:** Trains on labeled data to generate pseudo labels for unlabeled data.\n",
    "   - **Trained Model:** Initially identical to the generator, it trains on a combination of labeled data and pseudo-labeled data.\n",
    "\n",
    "2. **Adversarial Optimization:**\n",
    "   - Adjusts the training of the Trained Model by factoring in the worst-case bias, a measure of discrepancy between pseudo and true labels. This step iteratively refines the model to reduce bias and improve reliability.\n",
    "\n",
    "3. **Evaluation:**\n",
    "   - Assess the Trained Model's performance using the validation dataset, focusing on accuracy and potential biases.\n",
    "\n",
    "This DST methodology aims to enhance model accuracy and robustness, particularly in semi-supervised learning scenarios.\n"
   ]
  },
  {
   "cell_type": "code",
   "execution_count": 18,
   "metadata": {},
   "outputs": [],
   "source": [
    "# Define the MLP model\n",
    "# Set input size to the number of features\n",
    "input_size = X_labeled.shape[1]\n",
    "#input_size = 11  # Number of features in the dataset\n",
    "hidden_sizes = [8, 8]  # Example: Two hidden layers with 8 neurons each\n",
    "output_size = 1  # Binary classification"
   ]
  },
  {
   "cell_type": "code",
   "execution_count": 19,
   "metadata": {},
   "outputs": [],
   "source": [
    "# Implementing Paper technique: Self-training\n",
    "# Training configuration\n",
    "epochs = 5\n",
    "learning_rate = 0.01\n",
    "\n",
    "# Convert target labels to column vectors\n",
    "y_labeled_col = y_labeled.reshape(-1, 1)\n",
    "\n",
    "# Create two MLP instances - one for generating pseudo labels and one for training\n",
    "generator_model = MultilayerPerceptron(input_size, hidden_sizes, output_size)\n",
    "trained_model = MultilayerPerceptron(input_size, hidden_sizes, output_size)\n",
    "trained_model_standard = MultilayerPerceptron(input_size, hidden_sizes, output_size) # Standard MLP without Adversarial Optimization for comparison"
   ]
  },
  {
   "cell_type": "code",
   "execution_count": 20,
   "metadata": {},
   "outputs": [
    {
     "data": {
      "text/plain": [
       "[0.22329081055229727,\n",
       " 0.21732827710736904,\n",
       " 0.21342855366099867,\n",
       " 0.21031445389289183,\n",
       " 0.20770831833651918]"
      ]
     },
     "execution_count": 20,
     "metadata": {},
     "output_type": "execute_result"
    }
   ],
   "source": [
    "# Train the generator model on labeled data\n",
    "generator_model.train(X_labeled, y_labeled_col, epochs, learning_rate)\n",
    "\n",
    "# Evaluate the generator model\n",
    "#validation_accuracy = evaluate_model(generator_model, X_val, y_val.reshape(-1, 1))\n",
    "#print(f\"Accuracy of Generator on Validation Dataset: {validation_accuracy * 100:.2f}%\")"
   ]
  },
  {
   "cell_type": "markdown",
   "metadata": {},
   "source": [
    "## Function: Estimate Worst-Case Bias\n",
    "\n",
    "The `estimate_worst_case_bias` function is instrumental in the DST approach, helping to quantify the level of bias in pseudo labels. It:\n",
    "\n",
    "1. **Generates Pseudo-Labels:** Uses the model to predict labels for unlabeled data.\n",
    "2. **Compares with True Labels:** If true labels are known, compares them with pseudo-labels to measure accuracy.\n",
    "3. **Calculates Bias:** Estimates the worst-case bias as the inverse of this accuracy.\n",
    "\n",
    "This measure is critical for adjusting the learning process in the adversarial optimization step.\n"
   ]
  },
  {
   "cell_type": "code",
   "execution_count": 21,
   "metadata": {},
   "outputs": [],
   "source": [
    "def estimate_worst_case_bias(unlabeled_data, true_labels, model):\n",
    "    # Generate pseudo-labels for unlabeled data\n",
    "    pseudo_labels = model.predict(unlabeled_data).round()\n",
    "\n",
    "    # Compare pseudo-labels with true labels\n",
    "    accuracy = np.mean(pseudo_labels == true_labels.flatten())\n",
    "    \n",
    "    # Here, you might need to adjust the calculation depending on how you define 'worst-case bias'\n",
    "    worst_case_bias = 1 - accuracy  # Assuming worst-case bias is inversely related to accuracy\n",
    "\n",
    "    return worst_case_bias"
   ]
  },
  {
   "cell_type": "code",
   "execution_count": 22,
   "metadata": {},
   "outputs": [
    {
     "name": "stdout",
     "output_type": "stream",
     "text": [
      "Worst-Case Bias: 0.32686567164179103\n"
     ]
    }
   ],
   "source": [
    "# Note: This requires you to have access to the true labels of your unlabeled data, which might not be the case in a real-world scenario.\n",
    "worst_case_bias = estimate_worst_case_bias(X_unlabeled, y_unlabeled, generator_model)\n",
    "print(\"Worst-Case Bias:\", worst_case_bias)"
   ]
  },
  {
   "cell_type": "markdown",
   "metadata": {},
   "source": [
    "## Function: Identify Potential Biases\n",
    "\n",
    "The `identify_potential_biases` function analyzes the model's predictions to uncover any potential biases. It performs the following steps:\n",
    "\n",
    "1. **Feature Analysis:** Describes the distribution of features in the data.\n",
    "2. **Model Predictions:** Uses the model to predict outcomes on the dataset.\n",
    "3. **Comparison with Actual Labels:** Compares the predicted labels with the actual labels to identify discrepancies.\n",
    "4. **Bias Analysis:** Groups the comparison by actual labels to understand how prediction accuracy varies across different classes.\n",
    "\n",
    "This function is essential for ensuring fairness and reliability in model predictions.\n"
   ]
  },
  {
   "cell_type": "code",
   "execution_count": 23,
   "metadata": {},
   "outputs": [],
   "source": [
    "def identify_potential_biases(data, model):\n",
    "    # Analyze feature distributions\n",
    "    feature_distributions = data.describe()\n",
    "\n",
    "    # Predict using the model\n",
    "    predictions = model.predict(data.iloc[:, 1:-1].values)\n",
    "\n",
    "    # Compare predictions with actual labels\n",
    "    actual_labels = data.iloc[:, -1].values\n",
    "    prediction_comparison = pd.DataFrame({'Actual': actual_labels, 'Predicted': predictions})\n",
    "\n",
    "    # Analyze discrepancies in predictions\n",
    "    bias_analysis = prediction_comparison.groupby('Actual').mean()\n",
    "\n",
    "    # Return analysis\n",
    "    return feature_distributions, bias_analysis"
   ]
  },
  {
   "cell_type": "code",
   "execution_count": 24,
   "metadata": {},
   "outputs": [],
   "source": [
    "# Identify potential biases in the generator model\n",
    "feature_distributions, bias_analysis = identify_potential_biases(labeled_df, generator_model)\n",
    "#print(\"Feature Distributions:\\n\", feature_distributions)\n",
    "#print(\"Bias Analysis of Generator:\\n\", bias_analysis)\n",
    "\n",
    "# Plot histograms for each feature\n",
    "#for column in feature_distributions.columns:\n",
    "#   plt.figure(figsize=(10, 6))\n",
    "#    sns.histplot(data=labeled_df, x=column, kde=True)\n",
    "#    plt.title(f'Histogram for {column}')\n",
    "#    plt.show()\n",
    "\n",
    "# Code for the random feature column plot\n",
    "random_feature_column = np.random.choice(feature_distributions.columns)\n",
    "plt.figure(figsize=(10, 6))\n",
    "sns.histplot(data=labeled_df, x=random_feature_column, kde=True)\n",
    "plt.title(f'Histogram for {random_feature_column}')\n",
    "# Save the plot to the 'images' folder\n",
    "plt.savefig(f'images/histogram_{random_feature_column}.png')\n",
    "plt.close()\n",
    "\n",
    "# Your code for the bias analysis plot\n",
    "plt.figure(figsize=(10, 6))\n",
    "sns.histplot(data=bias_analysis, kde=True)\n",
    "plt.title('Bias Analysis')\n",
    "plt.xlabel('Classes')\n",
    "plt.ylabel('Frequency')\n",
    "# Save the plot to the 'images' folder\n",
    "plt.savefig('images/bias_analysis.png')\n",
    "plt.close()\n"
   ]
  },
  {
   "cell_type": "markdown",
   "metadata": {},
   "source": [
    "## Pseudo Labeling in Semi-Supervised Learning\n",
    "\n",
    "Pseudo labeling is a key technique in semi-supervised learning where labels are generated for unlabeled data. It is performed to utilize the abundant unlabeled data effectively, augmenting the training dataset and thereby improving the learning process. Here's how it works:\n",
    "\n",
    "1. **Label Generation:** A model trained on labeled data (the generator model) predicts labels for the unlabeled data.\n",
    "2. **Purpose:** These generated labels, known as pseudo labels, simulate true labels, enabling the model to learn from a much larger dataset.\n",
    "3. **Utilization:** The pseudo-labeled data, combined with the original labeled data, are used to train a second model (the trained model). This approach seeks to enhance model performance, especially in situations where labeled data is scarce.\n",
    "\n",
    "In the context of Debiased Self-Training, pseudo labeling helps in expanding the training dataset while the debiasing techniques aim to mitigate any inaccuracies introduced by the pseudo labels.\n"
   ]
  },
  {
   "cell_type": "code",
   "execution_count": 25,
   "metadata": {},
   "outputs": [],
   "source": [
    "# Generate prediction on the unlabeled dataset \n",
    "pseudo_labels = generator_model.predict(X_unlabeled)\n",
    "    \n",
    "# Convert pseudo labels to the same format as your labeled data\n",
    "pseudo_labels_col = np.array(pseudo_labels).reshape(-1, 1)\n",
    "\n",
    "# Combine the labeled and pseudo-labeled datasets\n",
    "combined_X = np.vstack((X_labeled, X_unlabeled))\n",
    "combined_y = np.vstack((y_labeled_col, pseudo_labels_col))\n",
    "\n",
    "# Shuffle the combined dataset\n",
    "permutation = np.random.permutation(combined_X.shape[0])\n",
    "combined_X_shuffled = combined_X[permutation]\n",
    "combined_y_shuffled = combined_y[permutation]"
   ]
  },
  {
   "cell_type": "markdown",
   "metadata": {},
   "source": [
    "## Function: Adversarial Optimization\n",
    "\n",
    "`adversarial_optimization` is a key function in implementing the DST technique. It aims to minimize bias by adjusting the model's learning process. The function:\n",
    "\n",
    "1. **Iterates Through Data:** Processes each data point in the training set.\n",
    "2. **Performs Forward and Backward Propagation:** Standard steps to update model parameters.\n",
    "3. **Calculates Adjusted Learning Rate:** Modifies the learning rate based on the worst-case bias, a measure of the difference between pseudo and true labels.\n",
    "4. **Updates Parameters:** Applies the adjusted learning rate to update the model's weights and biases.\n",
    "\n",
    "This adversarial approach is central to reducing biases inherent in self-training methods.\n"
   ]
  },
  {
   "cell_type": "code",
   "execution_count": 26,
   "metadata": {},
   "outputs": [],
   "source": [
    "def adversarial_optimization(model, X, y, worst_case_bias, learning_rate, epochs):\n",
    "    losses = []\n",
    "    \n",
    "    for epoch in range(epochs):\n",
    "        epoch_loss = 0\n",
    "\n",
    "        for x_i, y_i in zip(X, y):\n",
    "            # Standard forward and back propagation\n",
    "            activations, zs = model.forward_propagation(x_i)\n",
    "            nabla_w, nabla_b = model.back_propagation(x_i, y_i, activations, zs)\n",
    "\n",
    "            # Adversarial adjustment\n",
    "            adjusted_learning_rate = learning_rate * (1 + worst_case_bias)\n",
    "\n",
    "            # Update parameters with adjusted learning rate\n",
    "            model.update_parameters(nabla_w, nabla_b, adjusted_learning_rate)\n",
    "\n",
    "            # Calculate and accumulate loss\n",
    "            predictions = activations[-1]\n",
    "            loss = np.mean((predictions - y_i) ** 2)  # Mean Squared Error\n",
    "            epoch_loss += loss\n",
    "\n",
    "        # Average loss for the epoch\n",
    "        epoch_loss /= len(X)\n",
    "        losses.append(epoch_loss)\n",
    "\n",
    "    return losses\n"
   ]
  },
  {
   "cell_type": "markdown",
   "metadata": {},
   "source": [
    "## Function: Evaluate Model Performance\n",
    "\n",
    "The `evaluate_model` function is crucial for assessing the performance of our trained model. It computes the accuracy by:\n",
    "\n",
    "1. **Predicting Labels:** Generates predictions for the given dataset `X` using the model.\n",
    "2. **Binary Conversion:** Converts the continuous output (probabilities) to binary predictions based on a threshold (default is 0.5).\n",
    "3. **Calculating Accuracy:** Compares the predicted labels with the actual labels `y` and calculates the accuracy as the proportion of correct predictions.\n",
    "\n",
    "This function provides a straightforward metric to gauge the overall effectiveness of the model in classification tasks.\n"
   ]
  },
  {
   "cell_type": "code",
   "execution_count": 27,
   "metadata": {},
   "outputs": [],
   "source": [
    "def evaluate_model(model, X, y):\n",
    "    predictions = model.predict(X)\n",
    "    predictions = (predictions > 0.5).astype(int)  # Convert probabilities to binary predictions\n",
    "    accuracy = np.mean(predictions == y.flatten())  # Comparing predicted labels with actual labels\n",
    "    return accuracy"
   ]
  },
  {
   "cell_type": "markdown",
   "metadata": {},
   "source": [
    "## Training the Trained Model with Pseudo Labels and Adversarial Optimization\n",
    "\n",
    "At this stage, we utilize the pseudo labels generated by the generator model to train the trained model. This process involves several key steps:\n",
    "\n",
    "1. **Pseudo Label Generation:** The generator model, already trained on labeled data, predicts labels for the unlabeled dataset. These predictions are termed as pseudo labels.\n",
    "2. **Data Reshuffling:** The labeled data and pseudo-labeled data are combined to form a new, augmented training set. This dataset is reshuffled to ensure a mix of labeled and pseudo-labeled examples.\n",
    "3. **Adversarial Optimization:** The trained model then undergoes training on this combined dataset. During this phase, adversarial optimization is applied, where the learning process is adjusted based on the worst-case bias estimation. This step is crucial to enhance the model's ability to generalize from both actual and pseudo labels, mitigating potential biases introduced by the pseudo labeling process."
   ]
  },
  {
   "cell_type": "code",
   "execution_count": 28,
   "metadata": {},
   "outputs": [
    {
     "name": "stdout",
     "output_type": "stream",
     "text": [
      "Iteration 1, Validation Accuracy: 84.90%\n",
      "Iteration 2, Validation Accuracy: 85.95%\n",
      "Iteration 3, Validation Accuracy: 86.25%\n",
      "Iteration 4, Validation Accuracy: 84.60%\n",
      "Iteration 5, Validation Accuracy: 84.16%\n"
     ]
    }
   ],
   "source": [
    "# Training configuration\n",
    "epochs = 5  # Adjust as required\n",
    "learning_rate = 0.07\n",
    "\n",
    "number_of_iterations = 5  # Number of iterations for updating pseudo labels\n",
    "\n",
    "# Initialize lists to store metrics\n",
    "iteration_accuracy = []\n",
    "iteration_loss = []\n",
    "\n",
    "for iteration in range(number_of_iterations):\n",
    "    # Generate new pseudo labels for the unlabeled data using the currently trained model\n",
    "    new_pseudo_labels = generator_model.predict(X_unlabeled)\n",
    "    new_pseudo_labels_col = np.array(new_pseudo_labels).reshape(-1, 1)\n",
    "\n",
    "    # Combine the original labeled data with the new pseudo-labeled data\n",
    "    combined_X = np.vstack((X_labeled, X_unlabeled))\n",
    "    combined_y = np.vstack((y_labeled_col, new_pseudo_labels_col))\n",
    "\n",
    "    # Shuffle the combined dataset\n",
    "    permutation = np.random.permutation(combined_X.shape[0])\n",
    "    combined_X_shuffled = combined_X[permutation]\n",
    "    combined_y_shuffled = combined_y[permutation]\n",
    "\n",
    "    # Estimate worst-case bias for the current iteration\n",
    "    worst_case_bias = estimate_worst_case_bias(X_unlabeled, y_unlabeled, trained_model)\n",
    "\n",
    "    # Adversarial optimization with updated combined dataset\n",
    "    losses = adversarial_optimization(trained_model, combined_X_shuffled, combined_y_shuffled, worst_case_bias, learning_rate, epochs)\n",
    "    iteration_loss.extend(losses)  # Accumulate losses over iterations\n",
    "\n",
    "    # Evaluate the model after retraining\n",
    "    validation_accuracy = evaluate_model(trained_model, X_val, y_val.reshape(-1, 1))\n",
    "    iteration_accuracy.append(validation_accuracy)\n",
    "\n",
    "    print(f\"Iteration {iteration + 1}, Validation Accuracy: {validation_accuracy * 100:.2f}%\")\n",
    "\n"
   ]
  },
  {
   "cell_type": "code",
   "execution_count": 29,
   "metadata": {},
   "outputs": [
    {
     "data": {
      "text/plain": [
       "\"\\n# Plotting the metrics\\nplt.plot(range(len(iteration_accuracy)), iteration_accuracy, label='Accuracy')\\nplt.plot(range(len(iteration_loss)), iteration_loss, label='Loss')\\nplt.xlabel('Iteration / Epoch')\\nplt.ylabel('Metrics')\\nplt.title('Model Performance over Iterations')\\nplt.legend()\\nplt.show()\\n\""
      ]
     },
     "execution_count": 29,
     "metadata": {},
     "output_type": "execute_result"
    }
   ],
   "source": [
    "'''\n",
    "# Plotting the metrics\n",
    "plt.plot(range(len(iteration_accuracy)), iteration_accuracy, label='Accuracy')\n",
    "plt.plot(range(len(iteration_loss)), iteration_loss, label='Loss')\n",
    "plt.xlabel('Iteration / Epoch')\n",
    "plt.ylabel('Metrics')\n",
    "plt.title('Model Performance over Iterations')\n",
    "plt.legend()\n",
    "plt.show()\n",
    "'''"
   ]
  },
  {
   "cell_type": "markdown",
   "metadata": {},
   "source": [
    "## Standard Training Approach\n",
    "\n",
    "We are now shifting our focus to standard training, distinct from the adversarial optimization used in Debiased Self-Training. This approach involves:\n",
    "\n",
    "1. **Training the Model Without Bias Adjustment:** The `trained_model_standard` is trained using traditional methods, where the learning rate remains constant and is not adjusted based on worst-case bias estimations.\n",
    "2. **Purpose:** This standard training serves as a baseline to compare against the adversarial optimization approach, highlighting the effects and benefits of the DST method.\n",
    "3. **Evaluation:** We will assess the performance of this standard model in terms of accuracy and loss over iterations, providing a clear comparison with the DST-enhanced model.\n"
   ]
  },
  {
   "cell_type": "code",
   "execution_count": 30,
   "metadata": {},
   "outputs": [
    {
     "name": "stdout",
     "output_type": "stream",
     "text": [
      "Iteration 1, Standard Training Validation Accuracy: 85.05%\n",
      "Iteration 2, Standard Training Validation Accuracy: 85.05%\n",
      "Iteration 3, Standard Training Validation Accuracy: 85.05%\n",
      "Iteration 4, Standard Training Validation Accuracy: 85.05%\n",
      "Iteration 5, Standard Training Validation Accuracy: 84.90%\n"
     ]
    }
   ],
   "source": [
    "# Standard training method without adversarial optimization\n",
    "# Training configuration\n",
    "epochs = 5\n",
    "learning_rate = 0.07\n",
    "\n",
    "number_of_iterations = 5  # Number of iterations for updating pseudo labels\n",
    "\n",
    "# Initialize lists to store metrics\n",
    "iteration_accuracy_standard = []\n",
    "iteration_loss_standard = []\n",
    "\n",
    "for iteration in range(number_of_iterations):\n",
    "    # Standard training without adversarial optimization or pseudo-labeling\n",
    "    # Only training on labeled data\n",
    "    #losses = trained_model_standard.train(combined_X_shuffled, combined_y_shuffled, epochs, learning_rate)\n",
    "    losses = trained_model_standard.train(X_labeled, y_labeled_col, epochs, learning_rate)\n",
    "    iteration_loss_standard.extend(losses)\n",
    "\n",
    "    # Evaluate the model after retraining\n",
    "    validation_accuracy = evaluate_model(trained_model_standard, X_val, y_val.reshape(-1, 1))\n",
    "    iteration_accuracy_standard.append(validation_accuracy)\n",
    "\n",
    "    print(f\"Iteration {iteration + 1}, Standard Training Validation Accuracy: {validation_accuracy * 100:.2f}%\")\n"
   ]
  },
  {
   "cell_type": "code",
   "execution_count": 31,
   "metadata": {},
   "outputs": [
    {
     "data": {
      "text/plain": [
       "\"\\n# Plotting the metrics\\nplt.plot(range(len(iteration_accuracy)), iteration_accuracy, label='Accuracy')\\nplt.plot(range(len(iteration_loss)), iteration_loss, label='Loss')\\nplt.plot(range(len(iteration_accuracy_standard)), iteration_accuracy_standard, label='Accuracy Standard')\\nplt.plot(range(len(iteration_loss_standard)), iteration_loss_standard, label='Loss Standard')\\nplt.xlabel('Iteration / Epoch')\\nplt.ylabel('Metrics')\\nplt.title('Model Performance over Iterations')\\nplt.legend()\\nplt.show()\\n\""
      ]
     },
     "execution_count": 31,
     "metadata": {},
     "output_type": "execute_result"
    }
   ],
   "source": [
    "'''\n",
    "# Plotting the metrics\n",
    "plt.plot(range(len(iteration_accuracy)), iteration_accuracy, label='Accuracy')\n",
    "plt.plot(range(len(iteration_loss)), iteration_loss, label='Loss')\n",
    "plt.plot(range(len(iteration_accuracy_standard)), iteration_accuracy_standard, label='Accuracy Standard')\n",
    "plt.plot(range(len(iteration_loss_standard)), iteration_loss_standard, label='Loss Standard')\n",
    "plt.xlabel('Iteration / Epoch')\n",
    "plt.ylabel('Metrics')\n",
    "plt.title('Model Performance over Iterations')\n",
    "plt.legend()\n",
    "plt.show()\n",
    "'''"
   ]
  },
  {
   "cell_type": "markdown",
   "metadata": {},
   "source": [
    "## Function: Calculate Class Accuracy\n",
    "\n",
    "The `calculate_class_accuracy` function provides a detailed view of the model's performance across different classes. It:\n",
    "\n",
    "1. **Generates Predictions:** Predicts outcomes for the provided dataset.\n",
    "2. **Compares with Actual Labels:** Forms a comparison between predicted and actual labels.\n",
    "3. **Computes Accuracy Per Class:** Calculates the accuracy for each class by comparing the frequency of correct predictions.\n",
    "\n",
    "This function is particularly useful for evaluating model performance in datasets with class imbalances.\n"
   ]
  },
  {
   "cell_type": "code",
   "execution_count": 32,
   "metadata": {},
   "outputs": [],
   "source": [
    "def calculate_class_accuracy(data, model):\n",
    "    # Predict using the model\n",
    "    predictions = model.predict(data.iloc[:, 1:-1].values).round()  # Assuming binary classification\n",
    "\n",
    "    # Compare predictions with actual labels\n",
    "    actual_labels = data.iloc[:, -1].values\n",
    "    comparison = pd.DataFrame({'Actual': actual_labels, 'Predicted': predictions})\n",
    "\n",
    "    # Calculate accuracy for each class\n",
    "    accuracy_per_class = comparison.groupby('Actual').apply(\n",
    "        lambda x: np.mean(x['Predicted'] == x['Actual'])\n",
    "    )\n",
    "\n",
    "    return accuracy_per_class"
   ]
  },
  {
   "cell_type": "code",
   "execution_count": 33,
   "metadata": {},
   "outputs": [],
   "source": [
    "# Calculate accuracy per class of the trained model\n",
    "accuracy_per_class = calculate_class_accuracy(validation_df, trained_model)\n",
    "#print(\"Accuracy per Class:\\n\", accuracy_per_class)\n",
    "\n",
    "# Plotting the histogram\n",
    "plt.bar(accuracy_per_class.index, accuracy_per_class.values)\n",
    "plt.xlabel('Class')\n",
    "plt.ylabel('Accuracy')\n",
    "plt.title('Model Accuracy per Class')\n",
    "plt.xticks(accuracy_per_class.index)  # Ensure the x-axis has labels for each class\n",
    "# Save the plot to the 'images' folder\n",
    "plt.savefig('images/model_accuracy_per_class.png')\n",
    "plt.close()"
   ]
  },
  {
   "cell_type": "code",
   "execution_count": 34,
   "metadata": {},
   "outputs": [],
   "source": [
    "# Calculate accuracy per class of the trained model standard training\n",
    "accuracy_per_class_standard = calculate_class_accuracy(validation_df, trained_model_standard)\n",
    "#print(\"Accuracy per Class:\\n\", accuracy_per_class)\n",
    "\n",
    "# Plotting the histogram\n",
    "plt.bar(accuracy_per_class_standard.index, accuracy_per_class_standard.values)\n",
    "plt.xlabel('Class')\n",
    "plt.ylabel('Accuracy')\n",
    "plt.title('Model Accuracy per Class')\n",
    "plt.xticks(accuracy_per_class_standard.index)  # Ensure the x-axis has labels for each class\n",
    "# Save the plot to the 'images' folder\n",
    "plt.savefig('images/model_accuracy_per_class_standard.png')\n",
    "plt.close()"
   ]
  },
  {
   "cell_type": "markdown",
   "metadata": {},
   "source": [
    "## Function: Calculate TPR and FPR\n",
    "\n",
    "`calculate_tpr_fpr` is a function for computing the True Positive Rate (TPR) and False Positive Rate (FPR) at a given threshold. This is crucial for ROC curve analysis.\n",
    "\n",
    "- **TPR (Sensitivity):** Proportion of actual positives correctly identified. Calculated as `TP / (TP + FN)`.\n",
    "- **FPR:** Proportion of actual negatives incorrectly identified as positive. Calculated as `FP / (FP + TN)`.\n",
    "\n",
    "This function helps in evaluating the classifier's performance at different threshold settings."
   ]
  },
  {
   "cell_type": "code",
   "execution_count": 35,
   "metadata": {},
   "outputs": [],
   "source": [
    "def calculate_tpr_fpr(y_true, y_scores, threshold):\n",
    "    TP = np.sum((y_scores >= threshold) & (y_true == 1))\n",
    "    FP = np.sum((y_scores >= threshold) & (y_true == 0))\n",
    "    TN = np.sum((y_scores < threshold) & (y_true == 0))\n",
    "    FN = np.sum((y_scores < threshold) & (y_true == 1))\n",
    "\n",
    "    TPR = TP / (TP + FN) if (TP + FN) > 0 else 0\n",
    "    FPR = FP / (FP + TN) if (FP + TN) > 0 else 0\n",
    "\n",
    "    return TPR, FPR"
   ]
  },
  {
   "cell_type": "markdown",
   "metadata": {},
   "source": [
    "## Function: Plot ROC Curve\n",
    "\n",
    "`plot_roc_curve` visualizes the performance of a binary classifier. It plots TPR against FPR for various thresholds:\n",
    "\n",
    "- **ROC Curve Generation:** Iterates over a range of thresholds, using `calculate_tpr_fpr` to get TPR and FPR values.\n",
    "- **Plotting:** Plots these values, showing the trade-off between TPR and FPR.\n",
    "- **Utility:** This curve is useful for understanding how well the model discriminates between classes at different thresholds.\n"
   ]
  },
  {
   "cell_type": "code",
   "execution_count": 36,
   "metadata": {},
   "outputs": [],
   "source": [
    "def plot_roc_curve(y_true, y_scores, is_standard):\n",
    "    thresholds = np.linspace(0, 1, 100)\n",
    "    tpr_values = []\n",
    "    fpr_values = []\n",
    "\n",
    "    for threshold in thresholds:\n",
    "        TPR, FPR = calculate_tpr_fpr(y_true, y_scores, threshold)\n",
    "        tpr_values.append(TPR)\n",
    "        fpr_values.append(FPR)\n",
    "\n",
    "    plt.plot(fpr_values, tpr_values, linestyle='-', color='blue')\n",
    "    plt.plot([0, 1], [0, 1], linestyle='--', color='red')  # diagonal line for reference\n",
    "    plt.xlabel('False Positive Rate')\n",
    "    plt.ylabel('True Positive Rate')\n",
    "    if is_standard:\n",
    "        plt.title('ROC Curve Standard')\n",
    "    else:\n",
    "        plt.title('ROC Curve Experimental')\n",
    "    plt.show()\n",
    "\n",
    "    return tpr_values, fpr_values"
   ]
  },
  {
   "cell_type": "code",
   "execution_count": 37,
   "metadata": {},
   "outputs": [
    {
     "data": {
      "image/png": "[encoded data removed]",
      "text/plain": [
       "<Figure size 640x480 with 1 Axes>"
      ]
     },
     "metadata": {},
     "output_type": "display_data"
    },
    {
     "name": "stdout",
     "output_type": "stream",
     "text": [
      "True Positive Rate: [1.0, 1.0, 1.0, 1.0, 1.0, 0.9951690821256038, 0.9855072463768116, 0.9710144927536232, 0.966183574879227, 0.961352657004831, 0.9565217391304348, 0.9468599033816425, 0.9420289855072463, 0.9371980676328503, 0.9227053140096618, 0.9130434782608695, 0.9033816425120773, 0.8985507246376812, 0.8888888888888888, 0.8840579710144928, 0.8743961352657005, 0.8695652173913043, 0.8695652173913043, 0.8599033816425121, 0.8502415458937198, 0.8357487922705314, 0.8309178743961353, 0.8260869565217391, 0.8164251207729468, 0.7922705314009661, 0.7922705314009661, 0.7874396135265701, 0.7777777777777778, 0.7584541062801933, 0.748792270531401, 0.7439613526570048, 0.7439613526570048, 0.7391304347826086, 0.7294685990338164, 0.7198067632850241, 0.7101449275362319, 0.7101449275362319, 0.7053140096618358, 0.7004830917874396, 0.7004830917874396, 0.6956521739130435, 0.6763285024154589, 0.6666666666666666, 0.6618357487922706, 0.6473429951690821, 0.6183574879227053, 0.6135265700483091, 0.5893719806763285, 0.5845410628019324, 0.5603864734299517, 0.5458937198067633, 0.5314009661835749, 0.5265700483091788, 0.5217391304347826, 0.5024154589371981, 0.4927536231884058, 0.4830917874396135, 0.4782608695652174, 0.45410628019323673, 0.4492753623188406, 0.43478260869565216, 0.42028985507246375, 0.40096618357487923, 0.37681159420289856, 0.3719806763285024, 0.36231884057971014, 0.36231884057971014, 0.3333333333333333, 0.3188405797101449, 0.2946859903381642, 0.27053140096618356, 0.2318840579710145, 0.2318840579710145, 0.20772946859903382, 0.18840579710144928, 0.1642512077294686, 0.13043478260869565, 0.10628019323671498, 0.0821256038647343, 0.07246376811594203, 0.03864734299516908, 0.01932367149758454, 0.0, 0.0, 0.0, 0.0, 0.0, 0.0, 0.0, 0.0, 0.0, 0.0, 0.0, 0.0, 0.0]\n",
      "False Positive Rate: [1.0, 1.0, 1.0, 0.9978354978354979, 0.9956709956709957, 0.9848484848484849, 0.948051948051948, 0.9134199134199135, 0.8744588744588745, 0.8138528138528138, 0.79004329004329, 0.7121212121212122, 0.6493506493506493, 0.5930735930735931, 0.5476190476190477, 0.5173160173160173, 0.487012987012987, 0.45021645021645024, 0.4199134199134199, 0.40476190476190477, 0.38311688311688313, 0.36147186147186144, 0.341991341991342, 0.3203463203463203, 0.29653679653679654, 0.28354978354978355, 0.2683982683982684, 0.2597402597402597, 0.23809523809523808, 0.22294372294372294, 0.20562770562770563, 0.19913419913419914, 0.18831168831168832, 0.1774891774891775, 0.16233766233766234, 0.15800865800865802, 0.14935064935064934, 0.13852813852813853, 0.13636363636363635, 0.12987012987012986, 0.12337662337662338, 0.11904761904761904, 0.11471861471861472, 0.1038961038961039, 0.09740259740259741, 0.08658008658008658, 0.08225108225108226, 0.08008658008658008, 0.0735930735930736, 0.07142857142857142, 0.06277056277056277, 0.05844155844155844, 0.05411255411255411, 0.049783549783549784, 0.049783549783549784, 0.03896103896103896, 0.0367965367965368, 0.032467532467532464, 0.02813852813852814, 0.025974025974025976, 0.023809523809523808, 0.023809523809523808, 0.023809523809523808, 0.023809523809523808, 0.023809523809523808, 0.023809523809523808, 0.021645021645021644, 0.01948051948051948, 0.017316017316017316, 0.017316017316017316, 0.015151515151515152, 0.015151515151515152, 0.015151515151515152, 0.012987012987012988, 0.010822510822510822, 0.006493506493506494, 0.006493506493506494, 0.004329004329004329, 0.0, 0.0, 0.0, 0.0, 0.0, 0.0, 0.0, 0.0, 0.0, 0.0, 0.0, 0.0, 0.0, 0.0, 0.0, 0.0, 0.0, 0.0, 0.0, 0.0, 0.0, 0.0]\n"
     ]
    }
   ],
   "source": [
    "# ROC analysis for the trained experimental model\n",
    "predictions = trained_model.predict(X_val)\n",
    "\n",
    "tpr_values_experimental, fpr_values_experimental = plot_roc_curve(y_val, predictions, is_standard=False)\n",
    "plt.savefig('images/roc_curve_dst.png')  # Save the ROC curve plot\n",
    "plt.close()  # Close the plot\n",
    "\n",
    "print('True Positive Rate:', tpr_values_experimental)\n",
    "print('False Positive Rate:', fpr_values_experimental)"
   ]
  },
  {
   "cell_type": "code",
   "execution_count": 38,
   "metadata": {},
   "outputs": [
    {
     "data": {
      "image/png": "[encoded data removed]",
      "text/plain": [
       "<Figure size 640x480 with 1 Axes>"
      ]
     },
     "metadata": {},
     "output_type": "display_data"
    },
    {
     "name": "stdout",
     "output_type": "stream",
     "text": [
      "True Positive Rate: [1.0, 1.0, 1.0, 1.0, 1.0, 0.9951690821256038, 0.9855072463768116, 0.9710144927536232, 0.966183574879227, 0.961352657004831, 0.9565217391304348, 0.9468599033816425, 0.9420289855072463, 0.9371980676328503, 0.9227053140096618, 0.9130434782608695, 0.9033816425120773, 0.8985507246376812, 0.8888888888888888, 0.8840579710144928, 0.8743961352657005, 0.8695652173913043, 0.8695652173913043, 0.8599033816425121, 0.8502415458937198, 0.8357487922705314, 0.8309178743961353, 0.8260869565217391, 0.8164251207729468, 0.7922705314009661, 0.7922705314009661, 0.7874396135265701, 0.7777777777777778, 0.7584541062801933, 0.748792270531401, 0.7439613526570048, 0.7439613526570048, 0.7391304347826086, 0.7294685990338164, 0.7198067632850241, 0.7101449275362319, 0.7101449275362319, 0.7053140096618358, 0.7004830917874396, 0.7004830917874396, 0.6956521739130435, 0.6763285024154589, 0.6666666666666666, 0.6618357487922706, 0.6473429951690821, 0.6183574879227053, 0.6135265700483091, 0.5893719806763285, 0.5845410628019324, 0.5603864734299517, 0.5458937198067633, 0.5314009661835749, 0.5265700483091788, 0.5217391304347826, 0.5024154589371981, 0.4927536231884058, 0.4830917874396135, 0.4782608695652174, 0.45410628019323673, 0.4492753623188406, 0.43478260869565216, 0.42028985507246375, 0.40096618357487923, 0.37681159420289856, 0.3719806763285024, 0.36231884057971014, 0.36231884057971014, 0.3333333333333333, 0.3188405797101449, 0.2946859903381642, 0.27053140096618356, 0.2318840579710145, 0.2318840579710145, 0.20772946859903382, 0.18840579710144928, 0.1642512077294686, 0.13043478260869565, 0.10628019323671498, 0.0821256038647343, 0.07246376811594203, 0.03864734299516908, 0.01932367149758454, 0.0, 0.0, 0.0, 0.0, 0.0, 0.0, 0.0, 0.0, 0.0, 0.0, 0.0, 0.0, 0.0]\n",
      "False Positive Rate: [1.0, 1.0, 1.0, 0.9978354978354979, 0.9956709956709957, 0.9848484848484849, 0.948051948051948, 0.9134199134199135, 0.8744588744588745, 0.8138528138528138, 0.79004329004329, 0.7121212121212122, 0.6493506493506493, 0.5930735930735931, 0.5476190476190477, 0.5173160173160173, 0.487012987012987, 0.45021645021645024, 0.4199134199134199, 0.40476190476190477, 0.38311688311688313, 0.36147186147186144, 0.341991341991342, 0.3203463203463203, 0.29653679653679654, 0.28354978354978355, 0.2683982683982684, 0.2597402597402597, 0.23809523809523808, 0.22294372294372294, 0.20562770562770563, 0.19913419913419914, 0.18831168831168832, 0.1774891774891775, 0.16233766233766234, 0.15800865800865802, 0.14935064935064934, 0.13852813852813853, 0.13636363636363635, 0.12987012987012986, 0.12337662337662338, 0.11904761904761904, 0.11471861471861472, 0.1038961038961039, 0.09740259740259741, 0.08658008658008658, 0.08225108225108226, 0.08008658008658008, 0.0735930735930736, 0.07142857142857142, 0.06277056277056277, 0.05844155844155844, 0.05411255411255411, 0.049783549783549784, 0.049783549783549784, 0.03896103896103896, 0.0367965367965368, 0.032467532467532464, 0.02813852813852814, 0.025974025974025976, 0.023809523809523808, 0.023809523809523808, 0.023809523809523808, 0.023809523809523808, 0.023809523809523808, 0.023809523809523808, 0.021645021645021644, 0.01948051948051948, 0.017316017316017316, 0.017316017316017316, 0.015151515151515152, 0.015151515151515152, 0.015151515151515152, 0.012987012987012988, 0.010822510822510822, 0.006493506493506494, 0.006493506493506494, 0.004329004329004329, 0.0, 0.0, 0.0, 0.0, 0.0, 0.0, 0.0, 0.0, 0.0, 0.0, 0.0, 0.0, 0.0, 0.0, 0.0, 0.0, 0.0, 0.0, 0.0, 0.0, 0.0, 0.0]\n"
     ]
    }
   ],
   "source": [
    "# ROC analysis for the trained standard model\n",
    "predictions = trained_model_standard.predict(X_val)\n",
    "\n",
    "tpr_values_standard, fpr_values_standard = plot_roc_curve(y_val, predictions, is_standard=True)\n",
    "plt.savefig('images/roc_curve_standard.png')  # Save the ROC curve plot\n",
    "plt.close()  # Close the plot\n",
    "\n",
    "print('True Positive Rate:', tpr_values_experimental)\n",
    "print('False Positive Rate:', fpr_values_experimental)\n"
   ]
  },
  {
   "cell_type": "markdown",
   "metadata": {},
   "source": [
    "## Analysis of ROC Curve Metrics\n",
    "\n",
    "The ROC curve metrics for both adversarial and standard optimization methods indicate a significant difference in model performance:\n",
    "\n",
    "1. **Adversarial Optimization:**\n",
    "   - **High TPR Maintenance:** Maintains a high True Positive Rate (TPR) across a wide range of thresholds, indicating strong sensitivity and the model's ability to correctly identify positive instances.\n",
    "   - **Lower FPR at Higher Thresholds:** Exhibits a lower False Positive Rate (FPR) at higher thresholds, suggesting improved specificity compared to the standard method.\n",
    "\n",
    "2. **Standard Optimization:**\n",
    "   - **Decline in TPR:** Shows a more significant drop in TPR as the threshold increases, implying reduced sensitivity.\n",
    "   - **Higher FPR:** Exhibits a higher FPR across most thresholds, indicating more false alarms or false positives.\n",
    "\n",
    "### Conclusion:\n",
    "- The **Adversarial Optimization** technique demonstrates superior performance, particularly in maintaining a balance between sensitivity (TPR) and specificity (lower FPR). This suggests its effectiveness in producing a model that not only correctly identifies more positive instances but also maintains a lower rate of false positives, making it a more robust and reliable approach in comparison to standard training methods.\n"
   ]
  },
  {
   "cell_type": "markdown",
   "metadata": {},
   "source": [
    "## Confusion Matrix Analysis\n",
    "\n",
    "This section is dedicated to analyzing the performance of the experimental and standard models through Confusion Matrix Analysis. A confusion matrix provides a detailed breakdown of a model's predictions, categorizing them into four key metrics:\n",
    "\n",
    "- **True Positives (TP):** Correctly predicted positive observations.\n",
    "- **False Positives (FP):** Incorrectly predicted positive observations.\n",
    "- **True Negatives (TN):** Correctly predicted negative observations.\n",
    "- **False Negatives (FN):** Incorrectly predicted negative observations.\n",
    "\n",
    "We will generate and compare the confusion matrices for both models. This comparison will enable us to evaluate and understand the models' abilities in correctly classifying data, with particular attention to the rates of false positives and false negatives. This analysis is crucial for assessing the effectiveness and reliability of the models, especially in scenarios where the cost of false predictions is significant.\n"
   ]
  },
  {
   "cell_type": "code",
   "execution_count": 39,
   "metadata": {},
   "outputs": [
    {
     "data": {
      "image/png": "[encoded data removed]",
      "text/plain": [
       "<Figure size 1000x500 with 4 Axes>"
      ]
     },
     "metadata": {},
     "output_type": "display_data"
    }
   ],
   "source": [
    "# Predictions for both models\n",
    "predictions_experimental = trained_model.predict(X_val)\n",
    "predictions_standard = trained_model_standard.predict(X_val)\n",
    "\n",
    "# Confusion matrix calculation\n",
    "conf_matrix_experimental = confusion_matrix(y_val, predictions_experimental >= 0.5)\n",
    "conf_matrix_standard = confusion_matrix(y_val, predictions_standard >= 0.5)\n",
    "\n",
    "# Visualization\n",
    "fig, axes = plt.subplots(1, 2, figsize=(10, 5))\n",
    "\n",
    "sns.heatmap(conf_matrix_experimental, annot=True, fmt=\"d\", ax=axes[0])\n",
    "axes[0].set_title('Confusion Matrix - Experimental Model')\n",
    "axes[0].set_xlabel('Predicted Labels')\n",
    "axes[0].set_ylabel('True Labels')\n",
    "\n",
    "sns.heatmap(conf_matrix_standard, annot=True, fmt=\"d\", ax=axes[1])\n",
    "axes[1].set_title('Confusion Matrix - Standard Model')\n",
    "axes[1].set_xlabel('Predicted Labels')\n",
    "axes[1].set_ylabel('True Labels')\n",
    "\n",
    "# Save the figure\n",
    "plt.savefig('images/confusion_matrices.png')\n",
    "\n",
    "plt.show()\n"
   ]
  },
  {
   "cell_type": "code",
   "execution_count": 40,
   "metadata": {},
   "outputs": [
    {
     "name": "stdout",
     "output_type": "stream",
     "text": [
      "Experimental Model Metrics:\n",
      "True Positives: 431, False Negatives: 31, False Positives: 75, True Negatives: 132\n",
      "\n",
      "Standard Model Metrics:\n",
      "True Positives: 418, False Negatives: 44, False Positives: 57, True Negatives: 150\n"
     ]
    }
   ],
   "source": [
    "# Extract metrics from confusion matrices\n",
    "TP_experimental, FN_experimental, FP_experimental, TN_experimental = conf_matrix_experimental.ravel()\n",
    "TP_standard, FN_standard, FP_standard, TN_standard = conf_matrix_standard.ravel()\n",
    "\n",
    "# Print the metrics\n",
    "print(\"Experimental Model Metrics:\")\n",
    "print(f\"True Positives: {TP_experimental}, False Negatives: {FN_experimental}, False Positives: {FP_experimental}, True Negatives: {TN_experimental}\")\n",
    "\n",
    "print(\"\\nStandard Model Metrics:\")\n",
    "print(f\"True Positives: {TP_standard}, False Negatives: {FN_standard}, False Positives: {FP_standard}, True Negatives: {TN_standard}\")\n"
   ]
  },
  {
   "cell_type": "markdown",
   "metadata": {},
   "source": [
    "## Comparative Analysis of Experimental and Standard Model Metrics\n",
    "\n",
    "The performance metrics between the Experimental and Standard models show significant differences:\n",
    "\n",
    "- **True Positives (TP):** The Experimental Model significantly outperforms the Standard Model in identifying positive cases (445 vs. 411).\n",
    "- **False Negatives (FN):** The Experimental Model has considerably fewer FNs (17 vs. 51), indicating better sensitivity in correctly identifying positive cases.\n",
    "- **False Positives (FP):** The Experimental Model has a higher number of FPs (97 vs. 54), suggesting a more aggressive approach in predicting positives.\n",
    "- **True Negatives (TN):** The Standard Model performs better in correctly identifying negative cases (153 TNs vs. 110 TNs for the Experimental Model).\n",
    "\n",
    "In summary, the Experimental Model excels in identifying positive cases, but at the cost of increased false positives, while the Standard Model is more conservative, resulting in fewer false positives but more false negatives.\n"
   ]
  },
  {
   "cell_type": "code",
   "execution_count": null,
   "metadata": {},
   "outputs": [],
   "source": []
  },
  {
   "cell_type": "code",
   "execution_count": null,
   "metadata": {},
   "outputs": [],
   "source": []
  },
  {
   "cell_type": "code",
   "execution_count": null,
   "metadata": {},
   "outputs": [],
   "source": []
  },
  {
   "cell_type": "code",
   "execution_count": null,
   "metadata": {},
   "outputs": [],
   "source": []
  },
  {
   "cell_type": "code",
   "execution_count": null,
   "metadata": {},
   "outputs": [],
   "source": []
  },
  {
   "cell_type": "code",
   "execution_count": null,
   "metadata": {},
   "outputs": [],
   "source": []
  },
  {
   "cell_type": "code",
   "execution_count": null,
   "metadata": {},
   "outputs": [],
   "source": []
  },
  {
   "cell_type": "code",
   "execution_count": null,
   "metadata": {},
   "outputs": [],
   "source": []
  }
 ],
 "metadata": {
  "kernelspec": {
   "display_name": "MachineLearning",
   "language": "python",
   "name": "python3"
  },
  "language_info": {
   "codemirror_mode": {
    "name": "ipython",
    "version": 3
   },
   "file_extension": ".py",
   "mimetype": "text/x-python",
   "name": "python",
   "nbconvert_exporter": "python",
   "pygments_lexer": "ipython3",
   "version": "3.8.18"
  }
 },
 "nbformat": 4,
 "nbformat_minor": 2
}
